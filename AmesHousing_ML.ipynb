{
 "cells": [
  {
   "cell_type": "markdown",
   "id": "70d6eb15-4f07-437d-85ba-989689517a70",
   "metadata": {},
   "source": [
    "# Notebook for my ML prediction on the cleaned dataset\n",
    "\n",
    "## 1. Create a Baseline to estimate what a good score could be\n",
    "\n",
    "## 2. Create the models\n",
    "- Linear Regression\n",
    "- Ridge Regression \n",
    "- Lasso Regression\n",
    "- Light GB\n",
    "- XGBoost\n",
    "- GradientBooster\n",
    "\n",
    "## 3. Stacked model \n",
    "\n",
    "### -----------------------------------------------------------\n",
    "<br>\n",
    "\n",
    "#### Imports:"
   ]
  },
  {
   "cell_type": "code",
   "execution_count": 1,
   "id": "0dc3bfd5-1e37-47e1-9fad-a724b97e5cd5",
   "metadata": {},
   "outputs": [
    {
     "name": "stderr",
     "output_type": "stream",
     "text": [
      "C:\\Users\\xavier\\anaconda3\\envs\\env_X\\lib\\site-packages\\tqdm\\auto.py:22: TqdmWarning: IProgress not found. Please update jupyter and ipywidgets. See https://ipywidgets.readthedocs.io/en/stable/user_install.html\n",
      "  from .autonotebook import tqdm as notebook_tqdm\n"
     ]
    }
   ],
   "source": [
    "import pandas as pd\n",
    "import numpy as np\n",
    "import matplotlib.pyplot as plt\n",
    "%matplotlib inline\n",
    "import seaborn as sns\n",
    "import pickle as pkl\n",
    "\n",
    "from sklearn.model_selection import train_test_split\n",
    "from sklearn.compose import ColumnTransformer, TransformedTargetRegressor\n",
    "from sklearn.preprocessing import StandardScaler, RobustScaler, OneHotEncoder\n",
    "from sklearn.pipeline import Pipeline, make_pipeline\n",
    "from sklearn.metrics import mean_absolute_error\n",
    "from sklearn.model_selection import KFold, cross_validate, GridSearchCV, RandomizedSearchCV, StratifiedKFold\n",
    "from sklearn.linear_model import LinearRegression, Ridge, Lasso\n",
    "from sklearn.ensemble import RandomForestRegressor, GradientBoostingRegressor\n",
    "from sklearn.svm import SVR\n",
    "import xgboost as xgb\n",
    "import lightgbm as lgb\n",
    "\n",
    "# stat\n",
    "from statsmodels.stats.outliers_influence import variance_inflation_factor\n",
    "from scipy.stats import reciprocal, uniform\n",
    "\n",
    "# model hypertuning with optima\n",
    "import optuna\n",
    "\n",
    "import warnings\n",
    "warnings.filterwarnings(\"ignore\", category=RuntimeWarning) \n",
    "warnings.filterwarnings(\"ignore\")\n",
    "\n",
    "# Mean absolute error (MAE)\n",
    "def MAE(y, y_pred):\n",
    "    return np.mean(np.abs(y - y_pred))\n",
    "\n",
    "pd.set_option('display.max_rows', 500);"
   ]
  },
  {
   "cell_type": "code",
   "execution_count": 2,
   "id": "75b1f144-7776-4441-a6f7-ecb0193e52b9",
   "metadata": {},
   "outputs": [],
   "source": [
    "df = pd.read_csv('Ames_prepared.csv')\n",
    "with open('columns_grouped', 'rb') as f:\n",
    "    dict_cols = pkl.load(f)"
   ]
  },
  {
   "cell_type": "code",
   "execution_count": 3,
   "id": "1e5051c0-9c4d-44a8-9874-52106bc0bfc5",
   "metadata": {},
   "outputs": [],
   "source": [
    "# unpack the values inside the dict and create the lists\n",
    "k, v = zip(*dict_cols.items())\n",
    "cols_to_use, cols_ord, cols_dum, cols_bool, target = v[0], v[1], v[2], v[3], v[4]"
   ]
  },
  {
   "cell_type": "code",
   "execution_count": 4,
   "id": "263f6630-c7dd-4f38-af2c-3cb95b2bd62c",
   "metadata": {},
   "outputs": [],
   "source": [
    "for col in df.columns:\n",
    "    if df[col].dtype == object and col not in cols_dum:\n",
    "        print(col)\n",
    "        \n",
    "df.drop('logSalePrice', axis=1, inplace=True) # we will be using the log but with the log func as it will be simpler to reverse"
   ]
  },
  {
   "cell_type": "markdown",
   "id": "a4c3726e-6765-4980-a9cc-799e69039ec9",
   "metadata": {},
   "source": [
    "# 1. Create a Baseline "
   ]
  },
  {
   "cell_type": "code",
   "execution_count": 5,
   "id": "30d9c9d3-84af-4800-a9c1-6a36b5ddf482",
   "metadata": {},
   "outputs": [
    {
     "name": "stdout",
     "output_type": "stream",
     "text": [
      "Baseline score with 86.73% and a mean prediction of 21540.65 $\n"
     ]
    }
   ],
   "source": [
    "# lets create a baseline with the two best predictors to see the score\n",
    "\n",
    "X_bas, y = df[['TotalSF', 'OverallQual']].values, df.SalePrice.values\n",
    "X_bas_tr, X_bas_te, y_tr, y_te = train_test_split(X_bas, y, test_size=0.3, random_state=0)\n",
    "\n",
    "lr = TransformedTargetRegressor(regressor=LinearRegression(), func=np.log, inverse_func=np.exp)\n",
    "lr.fit(X_bas_tr, y_tr)\n",
    "\n",
    "print(f'Baseline score with {lr.score(X_bas_te, y_te):.2%} and a mean prediction of {MAE(y_te, lr.predict(X_bas_te)):.2f} $')"
   ]
  },
  {
   "cell_type": "markdown",
   "id": "189d5524-68a0-47ce-9a29-b96f0d987c2a",
   "metadata": {},
   "source": [
    "# 2. Lets create the models\n",
    "\n",
    "I created most of my models and hypertuned them with GridSearchCV from Sklearn but for the lgbm, xgb and gb Gridsearch was simply too long and the improvement on the model was almost inexistant. After searching for other tools I found optima which is works perfectly and is an amazing gain of time for tuning models.\n",
    "\n",
    "I first wanted to try and see if there is a difference working with a pipeline or transformed dataset, apparently there is (here 296.815 on the MAE which is weirdly huge, if anyone spot a mistake i'll gladly correct it).\n"
   ]
  },
  {
   "cell_type": "code",
   "execution_count": 6,
   "id": "d05e0050-aa73-44f9-becc-664eee0c060b",
   "metadata": {},
   "outputs": [
    {
     "name": "stdout",
     "output_type": "stream",
     "text": [
      "Shape of our train dataset: (2284, 67)\n",
      "Shape of our train dataset: (2284, 225)\n",
      "LR with pipe give us MAE: 12739.19 $ and LR without pipe gives us MAE: 13036.00 $, a difference of 296.815\n"
     ]
    }
   ],
   "source": [
    "# Pipeline model:\n",
    "X, y = df.drop('SalePrice', axis=1), df.SalePrice.values\n",
    "X_tr, X_te, y_tr, y_te = train_test_split(X, y, test_size=0.2, random_state=0) # --> te used ONLY for last check (thats why I chose a to remove a small 0.2 test set)\n",
    "print(f'Shape of our train dataset: {X_tr.shape}')\n",
    "\n",
    "# Create the column transformer\n",
    "preprocessor = ColumnTransformer([\n",
    "    ('nominal', OneHotEncoder(drop='first', handle_unknown='ignore'), cols_dum),\n",
    "    ], remainder='passthrough')\n",
    "\n",
    "# Create Pipeline\n",
    "pipe_1 = Pipeline([\n",
    "    ('preprocessor', preprocessor),\n",
    "    ('scaler', RobustScaler(with_centering=False)),\n",
    "    ('regressor', TransformedTargetRegressor(regressor=LinearRegression(), func=np.log, inverse_func=np.exp))\n",
    "])\n",
    "\n",
    "pipe_1.fit(X_tr, y_tr)\n",
    "\n",
    "score_p = MAE(y_te, pipe_1.predict(X_te))\n",
    "score_p_ = pipe_1.score(X_te, y_te)\n",
    "\n",
    "# ------------------------------------\n",
    "# Without Pipe\n",
    "\n",
    "# get dummies in the dataset\n",
    "df_dums = pd.get_dummies(df, columns=cols_dum, drop_first=True)\n",
    "X, y = df_dums.drop('SalePrice', axis=1), df_dums.SalePrice.values\n",
    "# scale X\n",
    "robscaler = RobustScaler()\n",
    "X = robscaler.fit_transform(X)\n",
    "\n",
    "# log y\n",
    "y = np.log1p(y)\n",
    "X_tr_, X_te_, y_tr_, y_te_ = train_test_split(X, y, test_size=0.2, random_state=0)\n",
    "print(f'Shape of our train dataset: {X_tr_.shape}')\n",
    "# create and fit LR\n",
    "lr = LinearRegression()\n",
    "lr.fit(X_tr_, y_tr_)\n",
    "\n",
    "score_lr = MAE(np.expm1(y_te_), np.expm1(lr.predict(X_te_)))\n",
    "score_lr_ = lr.score(X_te_, y_te_)\n",
    "              \n",
    "print(f'LR with pipe give us MAE: {score_p:.2f} $ and LR without pipe gives us MAE: {score_lr:.2f} $, a difference of {score_lr - score_p:.3f}')\n",
    "# I'll be working with the pipeline"
   ]
  },
  {
   "cell_type": "markdown",
   "id": "72cc4322-94fe-4dbf-9db3-b72fce17cda0",
   "metadata": {},
   "source": [
    "## 2. Train test separation\n"
   ]
  },
  {
   "cell_type": "code",
   "execution_count": 7,
   "id": "6f706b52-96f1-4979-870d-480592865927",
   "metadata": {},
   "outputs": [
    {
     "name": "stdout",
     "output_type": "stream",
     "text": [
      "We have 2284 rows and 67 features in the train set\n",
      "We have 571 rows and 67 features in the test set\n"
     ]
    }
   ],
   "source": [
    "# these will always be used for all models now (regression)\n",
    "X, y = df.drop('SalePrice', axis=1), df.SalePrice.values\n",
    "X_tr, X_te, y_tr, y_te = train_test_split(X, y, test_size=0.2, random_state=0) \n",
    "\n",
    "print(f'We have {X_tr.shape[0]} rows and {X_tr.shape[1]} features in the train set')\n",
    "print(f'We have {X_te.shape[0]} rows and {X_te.shape[1]} features in the test set')\n",
    "\n",
    "def grid_model(model, grid):\n",
    "    \n",
    "    # Create the column transformer\n",
    "    preprocessor = ColumnTransformer([\n",
    "        ('nominal', OneHotEncoder(drop='first', handle_unknown='ignore'), cols_dum),\n",
    "        ], remainder='passthrough')\n",
    "\n",
    "    # Create Pipeline\n",
    "    pipe = Pipeline([\n",
    "        ('preprocessor', preprocessor),\n",
    "        ('scaler', RobustScaler(with_centering=False)),\n",
    "        ('regressor', TransformedTargetRegressor(regressor=model, func=np.log, inverse_func=np.exp))\n",
    "    ])\n",
    "\n",
    "    grid_cv = GridSearchCV(pipe, grid, cv=5, return_train_score=True, n_jobs=-1, verbose=2)\n",
    "    grid_cv.fit(X_tr, y_tr);\n",
    "\n",
    "    print(f'The pipeline predicts our target with a {grid_cv.score(X_te, y_te):.2%} accuracy and a MAE of {MAE(y_te, grid_cv.predict(X_te)):.2f} $ on the test set')    \n",
    "    return grid_cv\n",
    "\n",
    "def plot_model(grid_search, param):\n",
    "    # Collect results in a DataFrame\n",
    "    cv_results = pd.DataFrame(grid_search.cv_results_)\n",
    "    # Group results by alpha value\n",
    "    grouped = cv_results.groupby('param_regressor__regressor__' + param).mean()\n",
    "    # Plot mean scores\n",
    "    plt.plot(grouped.index, grouped.mean_train_score, label='train')\n",
    "    plt.plot(grouped.index, grouped.mean_test_score, label='test')\n",
    "    # Add marker for best score\n",
    "    best_estimator = grouped.mean_test_score.idxmax()\n",
    "    plt.scatter(best_estimator, grouped.mean_test_score.max(), marker='x', c='red', zorder=10)\n",
    "    # Quantify variance with ±std curves\n",
    "    plt.fill_between(grouped.index, grouped.mean_train_score-grouped.std_train_score, grouped.mean_train_score+grouped.std_train_score, alpha=0.2)\n",
    "    plt.fill_between(grouped.index, grouped.mean_test_score-grouped.std_test_score, grouped.mean_test_score+grouped.std_test_score, alpha=0.2)\n",
    "    plt.title('Best estimator: {} with {:.1f}% accuracy'.format(best_estimator, 100*grouped.mean_test_score[best_estimator]))\n",
    "    plt.ylabel('accuracy')\n",
    "    plt.xlabel(param)\n",
    "    plt.legend()\n",
    "    plt.show()\n",
    "    return cv_results\n",
    "\n",
    "scores_dict = {}"
   ]
  },
  {
   "cell_type": "markdown",
   "id": "f639457c-5882-4d40-bbe0-20710184d6e2",
   "metadata": {},
   "source": [
    "## LinearRegression "
   ]
  },
  {
   "cell_type": "code",
   "execution_count": 8,
   "id": "c00ecb6d-c73b-45e6-ad62-0caea0c90755",
   "metadata": {},
   "outputs": [
    {
     "name": "stdout",
     "output_type": "stream",
     "text": [
      "Fitting 5 folds for each of 1 candidates, totalling 5 fits\n",
      "The pipeline predicts our target with a 94.93% accuracy and a MAE of 12739.19 $ on the test set\n",
      "best estimator is: TransformedTargetRegressor(func=<ufunc 'log'>, inverse_func=<ufunc 'exp'>,\n",
      "                           regressor=LinearRegression())\n"
     ]
    }
   ],
   "source": [
    "# Linear Regression\n",
    "grid_li = {}\n",
    "grid_linear = grid_model(LinearRegression(), grid_li)\n",
    "\n",
    "scores_dict['linear'] = MAE(y_te, grid_linear.predict(X_te))\n",
    "\n",
    "print(f'best estimator is: {grid_linear.best_estimator_.named_steps.regressor}')"
   ]
  },
  {
   "cell_type": "markdown",
   "id": "62024d09-f9e0-469a-92b4-95c135b42443",
   "metadata": {},
   "source": [
    "## Ridge Regression\n",
    "\n"
   ]
  },
  {
   "cell_type": "code",
   "execution_count": 9,
   "id": "fa54b42e-c6ba-4f98-8397-c5718a674b65",
   "metadata": {},
   "outputs": [
    {
     "name": "stdout",
     "output_type": "stream",
     "text": [
      "Fitting 5 folds for each of 200 candidates, totalling 1000 fits\n",
      "The pipeline predicts our target with a 95.39% accuracy and a MAE of 12645.83 $ on the test set\n"
     ]
    },
    {
     "data": {
      "image/png": "[encoded data removed]",
      "text/plain": [
       "<Figure size 432x288 with 1 Axes>"
      ]
     },
     "metadata": {
      "needs_background": "light"
     },
     "output_type": "display_data"
    },
    {
     "name": "stdout",
     "output_type": "stream",
     "text": [
      "best estimator is: TransformedTargetRegressor(func=<ufunc 'log'>, inverse_func=<ufunc 'exp'>,\n",
      "                           regressor=Ridge(alpha=16.08124120603015))\n"
     ]
    }
   ],
   "source": [
    "## Ridge Regression\n",
    "grid_r = {'regressor__regressor__alpha':np.linspace(0.001, 100, 200)}\n",
    "grid_ridge = grid_model(Ridge(), grid_r)\n",
    "\n",
    "scores_dict['ridge'] = MAE(y_te, grid_ridge.predict(X_te))\n",
    "\n",
    "cv_results_ri = plot_model(grid_ridge, 'alpha')\n",
    "print(f'best estimator is: {grid_ridge.best_estimator_.named_steps.regressor}')"
   ]
  },
  {
   "cell_type": "markdown",
   "id": "d10c842d-534a-4ccc-953c-394882b81b35",
   "metadata": {},
   "source": [
    "## Lasso Regression"
   ]
  },
  {
   "cell_type": "code",
   "execution_count": 10,
   "id": "8fcd2d03-780b-4b68-9ca2-6f8431bef61e",
   "metadata": {},
   "outputs": [
    {
     "name": "stdout",
     "output_type": "stream",
     "text": [
      "Fitting 5 folds for each of 100 candidates, totalling 500 fits\n",
      "The pipeline predicts our target with a 95.52% accuracy and a MAE of 12337.49 $ on the test set\n"
     ]
    },
    {
     "data": {
      "image/png": "[encoded data removed]",
      "text/plain": [
       "<Figure size 432x288 with 1 Axes>"
      ]
     },
     "metadata": {
      "needs_background": "light"
     },
     "output_type": "display_data"
    },
    {
     "name": "stdout",
     "output_type": "stream",
     "text": [
      "best estimator is: TransformedTargetRegressor(func=<ufunc 'log'>, inverse_func=<ufunc 'exp'>,\n",
      "                           regressor=Lasso(alpha=0.00016162454545454546,\n",
      "                                           max_iter=100000))\n"
     ]
    }
   ],
   "source": [
    "grid_l = {'regressor__regressor__alpha':np.linspace(10e-9, 0.001, 100),\n",
    "         'regressor__regressor__max_iter': [100_000]}\n",
    "grid_lasso = grid_model(Lasso(), grid_l)\n",
    "\n",
    "scores_dict['lasso'] = MAE(y_te, grid_lasso.predict(X_te))\n",
    "\n",
    "cv_results_la = plot_model(grid_lasso, 'alpha')\n",
    "\n",
    "print(f'best estimator is: {grid_lasso.best_estimator_.named_steps.regressor}')"
   ]
  },
  {
   "cell_type": "markdown",
   "id": "d4cfbbda-50e6-4bf6-ad36-f8c928497ca9",
   "metadata": {},
   "source": [
    "## Light LGB"
   ]
  },
  {
   "cell_type": "code",
   "execution_count": 11,
   "id": "e27e1ee4-8168-4952-a508-e8de96683bbd",
   "metadata": {},
   "outputs": [],
   "source": [
    "# realise a hyperparams tuning with optuna!\n",
    "# # https://towardsdatascience.com/kagglers-guide-to-lightgbm-hyperparameter-tuning-with-optuna-in-2021-ed048d9838b5\n",
    "# Never used Optuna before and its a real gain of time to tune !!\n",
    "\n",
    "def objective(trial):\n",
    "    \n",
    "    param_grid = {\n",
    "        \"n_estimators\": trial.suggest_int(\"n_estimators\", 200, 1000, step=10),\n",
    "        \"learning_rate\": trial.suggest_float(\"learning_rate\", 0.01, 0.05),\n",
    "        \"num_leaves\": trial.suggest_int(\"num_leaves\", 5, 300, step=5),\n",
    "        \"min_data_in_leaf\": trial.suggest_int(\"min_data_in_leaf\", 2, 100, step=1),\n",
    "        \"bagging_fraction\": trial.suggest_float(\"bagging_fraction\", 0.2, 0.95, step=0.01),\n",
    "        \"bagging_freq\": trial.suggest_categorical(\"bagging_freq\", [1]),\n",
    "        \"feature_fraction\": trial.suggest_float(\"feature_fraction\", 0.2, 0.95, step=0.01),\n",
    "        #\"max_bin\": trial.suggest_int(\"max_bin\", 30, 70, step=1),\n",
    "    }\n",
    "    \n",
    "        # Create the column transformer\n",
    "    preprocessor = ColumnTransformer([\n",
    "        ('nominal', OneHotEncoder(drop='first', handle_unknown='ignore'), cols_dum),\n",
    "        ], remainder='passthrough')\n",
    "\n",
    "    # Create Pipeline\n",
    "    pipe_lgb = Pipeline([\n",
    "        ('preprocessor', preprocessor),\n",
    "        ('scaler', RobustScaler(with_centering=False)),\n",
    "        ('regressor', TransformedTargetRegressor(\n",
    "            regressor=lgb.LGBMRegressor(**param_grid, feature_fraction_seed=14, bagging_seed=14)\n",
    "            , func=np.log, inverse_func=np.exp))\n",
    "    ])\n",
    "\n",
    "    pipe_lgb.fit(X_tr, y_tr)\n",
    "    y_pred = pipe_lgb.predict(X_te)\n",
    "    mae = MAE(y_te, y_pred)\n",
    "    print(f\"Model MAE: {round(mae, 6)}\")\n",
    "    return mae # return our objective value\n",
    "\n",
    "# if __name__ == \"__main__\":\n",
    "#     study = optuna.create_study(\n",
    "#         sampler=optuna.samplers.TPESampler()\n",
    "#     )\n",
    "#     study.optimize(objective, n_trials=300)\n",
    "\n",
    "#     print(\"Number of finished trials: {}\".format(len(study.trials)))\n",
    "\n",
    "#     print(\"Best trial:\")\n",
    "#     trial = study.best_trial\n",
    "\n",
    "#     print(\"  Value: {}\".format(trial.value))\n",
    "\n",
    "#     print(\"  Params: \")\n",
    "#     for key, value in trial.params.items():\n",
    "#         print(\"    {}: {}\".format(key, value))"
   ]
  },
  {
   "cell_type": "code",
   "execution_count": 12,
   "id": "2d908408-97b8-4159-8951-a2fe487c456f",
   "metadata": {},
   "outputs": [
    {
     "name": "stdout",
     "output_type": "stream",
     "text": [
      "[LightGBM] [Warning] feature_fraction is set=0.9199999999999999, colsample_bytree=1.0 will be ignored. Current value: feature_fraction=0.9199999999999999\n",
      "[LightGBM] [Warning] min_data_in_leaf is set=2, min_child_samples=20 will be ignored. Current value: min_data_in_leaf=2\n",
      "[LightGBM] [Warning] bagging_fraction is set=0.35, subsample=1.0 will be ignored. Current value: bagging_fraction=0.35\n",
      "[LightGBM] [Warning] bagging_freq is set=1, subsample_freq=0 will be ignored. Current value: bagging_freq=1\n",
      "The pipeline predicts our target with a 95.90% accuracy and a MAE of 11385.82 $ on the test set\n"
     ]
    }
   ],
   "source": [
    "# fine tuned model:\n",
    "model_lgb = lgb.LGBMRegressor(objective='regression',\n",
    "                              n_estimators=950,\n",
    "                              learning_rate=0.02407009717957826,\n",
    "                              num_leaves=20,\n",
    "                              min_data_in_leaf=2,\n",
    "                              bagging_fraction= 0.35,\n",
    "                              bagging_freq = 1, \n",
    "                              feature_fraction = 0.9199999999999999,\n",
    "                              feature_fraction_seed=14, bagging_seed=14)\n",
    "\n",
    "# Create the column transformer\n",
    "preprocessor = ColumnTransformer([\n",
    "    ('nominal', OneHotEncoder(drop='first', handle_unknown='ignore'), cols_dum),\n",
    "    ], remainder='passthrough')\n",
    "\n",
    "# Create Pipeline\n",
    "pipe_lgb = Pipeline([\n",
    "    ('preprocessor', preprocessor),\n",
    "    ('scaler', RobustScaler(with_centering=False)),\n",
    "    ('regressor', TransformedTargetRegressor(\n",
    "        regressor=model_lgb, func=np.log, inverse_func=np.exp))\n",
    "])\n",
    "\n",
    "pipe_lgb.fit(X_tr, y_tr)\n",
    "\n",
    "scores_dict['lgbm'] = MAE(y_te, pipe_lgb.predict(X_te))\n",
    "\n",
    "print(f'The pipeline predicts our target with a {pipe_lgb.score(X_te, y_te):.2%} accuracy and a MAE of {MAE(y_te, pipe_lgb.predict(X_te)):.2f} $ on the test set')"
   ]
  },
  {
   "cell_type": "markdown",
   "id": "ae8a4121-94a4-4843-8b00-636e8351b85c",
   "metadata": {},
   "source": [
    "# XGBoost "
   ]
  },
  {
   "cell_type": "code",
   "execution_count": 13,
   "id": "113bac34-7335-4fa1-b469-30629fa83644",
   "metadata": {},
   "outputs": [],
   "source": [
    "\n",
    "def objective_xgb(trial):\n",
    "    \n",
    "    param_grid = {\n",
    "        \"n_estimators\": trial.suggest_int(\"n_estimators\", 200, 5000, step=20),\n",
    "        \"max_depth\": trial.suggest_int(\"max_depth\", 1, 30, step=2),\n",
    "        \"learning_rate\": trial.suggest_float(\"learning_rate\", 0.01, 0.05),\n",
    "        \"colsample_bytree\": trial.suggest_float(\"colsample_bytree\", 0.05, 0.95),\n",
    "        \"gamma\": trial.suggest_float(\"gamma\", 0.001, 1),\n",
    "        \"reg_alpha\": trial.suggest_float(\"reg_alpha\", 0.1, 1),\n",
    "        \"reg_lambda\": trial.suggest_float(\"reg_lambda\", 0.1, 1),\n",
    "        #\"max_bin\": trial.suggest_int(\"max_bin\", 30, 70, step=1),\n",
    "    }\n",
    "    \n",
    "    # Create the column transformer\n",
    "    preprocessor = ColumnTransformer([\n",
    "        ('nominal', OneHotEncoder(drop='first', handle_unknown='ignore'), cols_dum),\n",
    "        ], remainder='passthrough')\n",
    "\n",
    "    # Create Pipeline\n",
    "    pipe_xgb = Pipeline([\n",
    "        ('preprocessor', preprocessor),\n",
    "        ('scaler', RobustScaler(with_centering=False)),\n",
    "        ('regressor', TransformedTargetRegressor(\n",
    "            regressor=xgb.XGBRegressor(**param_grid, random_state=14)\n",
    "            , func=np.log, inverse_func=np.exp))\n",
    "    ])\n",
    "\n",
    "    pipe_xgb.fit(X_tr, y_tr)\n",
    "    y_pred = pipe_xgb.predict(X_te)\n",
    "    mae = MAE(y_te, y_pred)\n",
    "    print(f\"Model MAE: {round(mae, 6)}\")\n",
    "    return mae # return our objective value\n",
    "\n",
    "\n",
    "# if __name__ == \"__main__\":\n",
    "#     study_xgb = optuna.create_study(\n",
    "#         sampler=optuna.samplers.TPESampler()\n",
    "#     )\n",
    "#     study_xgb.optimize(objective_xgb, n_trials=100)\n",
    "\n",
    "#     print(\"Number of finished trials: {}\".format(len(study_xgb.trials)))\n",
    "\n",
    "#     print(\"Best trial:\")\n",
    "#     trial = study_xgb.best_trial\n",
    "\n",
    "#     print(\"  Value: {}\".format(trial.value))\n",
    "\n",
    "#     print(\"  Params: \")\n",
    "#     for key, value in trial.params.items():\n",
    "#         print(\"    {}: {}\".format(key, value))"
   ]
  },
  {
   "cell_type": "code",
   "execution_count": 14,
   "id": "81569421-7902-43a2-91f4-fc87edbdbdbd",
   "metadata": {},
   "outputs": [
    {
     "name": "stdout",
     "output_type": "stream",
     "text": [
      "The pipeline predicts our target with a 94.94% accuracy and a MAE of 12247.69 $ on the test set\n"
     ]
    }
   ],
   "source": [
    "# {'n_estimators': 2180, 'max_depth': 9, 'learning_rate': 0.042132322085510786, 'colsample_bytree': 0.21082651543070063, \n",
    "# 'gamma': 0.0056211195829035665, 'reg_alpha': 0.4818050113004029, 'reg_lambda': 0.6391073956653768}\n",
    "\n",
    "model_xgb = xgb.XGBRegressor(n_estimators=2180,\n",
    "                             max_depth= 9,\n",
    "                             learning_rate = 0.042132322085510786, \n",
    "                             colsample_bytree = 0.21082651543070063, \n",
    "                             gamma = 0.0056211195829035665, \n",
    "                             reg_alpha = 0.4818050113004029, \n",
    "                             reg_lambda = 0.6391073956653768,\n",
    "                             random_state=14, \n",
    "                             )\n",
    "\n",
    "# Create the column transformer\n",
    "preprocessor = ColumnTransformer([\n",
    "    ('nominal', OneHotEncoder(drop='first', handle_unknown='ignore'), cols_dum),\n",
    "    ], remainder='passthrough')\n",
    "\n",
    "# Create Pipeline\n",
    "pipe_xgb = Pipeline([\n",
    "    ('preprocessor', preprocessor),\n",
    "    ('scaler', RobustScaler(with_centering=False)),\n",
    "    ('regressor', TransformedTargetRegressor(\n",
    "        regressor=model_xgb, func=np.log, inverse_func=np.exp))\n",
    "])\n",
    "\n",
    "pipe_xgb.fit(X_tr, y_tr)\n",
    "\n",
    "scores_dict['xgboost'] = MAE(y_te, pipe_xgb.predict(X_te))\n",
    "\n",
    "print(f'The pipeline predicts our target with a {pipe_xgb.score(X_te, y_te):.2%} accuracy and a MAE of {MAE(y_te, pipe_xgb.predict(X_te)):.2f} $ on the test set')"
   ]
  },
  {
   "cell_type": "markdown",
   "id": "93b89011-24bc-484c-9159-62643c147b69",
   "metadata": {},
   "source": [
    "# GBoost"
   ]
  },
  {
   "cell_type": "code",
   "execution_count": 15,
   "id": "3da68839-8776-4a4b-834b-087b804e9a08",
   "metadata": {},
   "outputs": [],
   "source": [
    "def objective_gb(trial):\n",
    "    \n",
    "    param_grid = {\n",
    "        \"n_estimators\": trial.suggest_int(\"n_estimators\", 200, 7000, step=20),\n",
    "        \"max_depth\": trial.suggest_int(\"max_depth\", 1, 20, step=2),\n",
    "        \"learning_rate\": trial.suggest_float(\"learning_rate\", 0.01, 0.05),\n",
    "        \"min_samples_split\": trial.suggest_int(\"min_samples_split\", 2, 50, step=1)\n",
    "    }\n",
    "    \n",
    "        # Create the column transformer\n",
    "    preprocessor = ColumnTransformer([\n",
    "        ('nominal', OneHotEncoder(drop='first', handle_unknown='ignore'), cols_dum),\n",
    "        ], remainder='passthrough')\n",
    "\n",
    "    # Create Pipeline\n",
    "    pipe_gb = Pipeline([\n",
    "        ('preprocessor', preprocessor),\n",
    "        ('scaler', RobustScaler(with_centering=False)),\n",
    "        ('regressor', TransformedTargetRegressor(\n",
    "            regressor=GradientBoostingRegressor(**param_grid, loss='huber', max_features='sqrt', random_state=14)\n",
    "            , func=np.log, inverse_func=np.exp))\n",
    "    ])\n",
    "\n",
    "    pipe_gb.fit(X_tr, y_tr)\n",
    "    y_pred = pipe_gb.predict(X_te)\n",
    "    mae = MAE(y_te, y_pred)\n",
    "    print(f\"Model MAE: {round(mae, 6)}\")\n",
    "    return mae # return our objective value\n",
    "\n",
    "\n",
    "# if __name__ == \"__main__\":\n",
    "#     study_gb = optuna.create_study(\n",
    "#         sampler=optuna.samplers.TPESampler()\n",
    "#     )\n",
    "#     study_gb.optimize(objective_gb, n_trials=50)\n",
    "\n",
    "#     print(\"Number of finished trials: {}\".format(len(study_gb.trials)))\n",
    "\n",
    "#     print(\"Best trial:\")\n",
    "#     trial = study_gb.best_trial\n",
    "\n",
    "#     print(\"  Value: {}\".format(trial.value))\n",
    "\n",
    "#     print(\"  Params: \")\n",
    "#     for key, value in trial.params.items():\n",
    "#         print(\"    {}: {}\".format(key, value))"
   ]
  },
  {
   "cell_type": "code",
   "execution_count": 16,
   "id": "ffb909be-9805-4b4c-8b65-c2e9472fb9ff",
   "metadata": {},
   "outputs": [
    {
     "name": "stdout",
     "output_type": "stream",
     "text": [
      "The pipeline predicts our target with a 95.81% accuracy and a MAE of 11483.93 $ on the test set\n"
     ]
    }
   ],
   "source": [
    "# params={'n_estimators': 4080, 'max_depth': 5, 'learning_rate': 0.022995922215616475, 'min_samples_split': 39}\n",
    "GBoost = GradientBoostingRegressor(n_estimators=4080, \n",
    "                                   learning_rate=0.022995922215616475,\n",
    "                                   max_depth=5, \n",
    "                                   max_features='sqrt',\n",
    "                                   # min_samples_leaf=15, \n",
    "                                   min_samples_split=39, \n",
    "                                   loss='huber', \n",
    "                                   random_state =14)\n",
    "\n",
    "# Create the column transformer\n",
    "preprocessor = ColumnTransformer([\n",
    "    ('nominal', OneHotEncoder(drop='first', handle_unknown='ignore'), cols_dum),\n",
    "    ], remainder='passthrough')\n",
    "\n",
    "# Create Pipeline\n",
    "pipe_gb = Pipeline([\n",
    "    ('preprocessor', preprocessor),\n",
    "    ('scaler', RobustScaler(with_centering=False)),\n",
    "    ('regressor', TransformedTargetRegressor(\n",
    "        regressor=GBoost, func=np.log, inverse_func=np.exp))\n",
    "])\n",
    "\n",
    "pipe_gb.fit(X_tr, y_tr)\n",
    "\n",
    "scores_dict['gboost'] = MAE(y_te, pipe_gb.predict(X_te))\n",
    "\n",
    "print(f'The pipeline predicts our target with a {pipe_gb.score(X_te, y_te):.2%} accuracy and a MAE of {MAE(y_te, pipe_gb.predict(X_te)):.2f} $ on the test set')"
   ]
  },
  {
   "cell_type": "markdown",
   "id": "e9f3c7e9-8f05-4b01-afa4-fb9aef39601c",
   "metadata": {},
   "source": [
    "# Best model : LGBM\n",
    "\n",
    "Our best model is the LightGBM with 11385$.\n",
    "\n",
    "Our score is very good, even if our datasets are small and the predictions are made on 20% (our model would most probably lose some of its efficiency if it had to predict 40-50% of the data). \n",
    "I adapted this notebook to try to see my score on Kaggle in the ['House Price'](https://www.kaggle.com/competitions/house-prices-advanced-regression-techniques) competition and managed to predict with a RMSE of 0.12243.\n",
    "\n",
    "I'm more than happy with my score which is in the top 9% of the leaderboard.\n",
    "\n",
    "It was in this competition that I was able to learn to stack my models for more robust predictions. I try below to create such a model just to learn this very useful skill.\n",
    "\n",
    "--> To play with the robustness of my model I fit the models on 60% of the data and try to predict 40% which should be a good test to see how well the model performs."
   ]
  },
  {
   "cell_type": "code",
   "execution_count": 20,
   "id": "6dd84a90-2bce-4292-b264-097e30e7a5cd",
   "metadata": {},
   "outputs": [
    {
     "data": {
      "image/png": "[encoded data removed]",
      "text/plain": [
       "<Figure size 720x432 with 1 Axes>"
      ]
     },
     "metadata": {
      "needs_background": "light"
     },
     "output_type": "display_data"
    }
   ],
   "source": [
    "mods, vals = zip(*scores_dict.items())\n",
    "palette = sns.color_palette('viridis', len(mods))\n",
    "\n",
    "f,ax = plt.subplots(figsize=(10, 6))\n",
    "\n",
    "bars = ax.bar(mods, vals, color=palette)\n",
    "ax.bar_label(bars)\n",
    "\n",
    "plt.title('Predicted MAE of the different models in $')\n",
    "plt.ylabel('Mean Absolute Error in $')\n",
    "plt.xlabel('Models')\n",
    "plt.ylim(11000, 13000)\n",
    "plt.show();"
   ]
  },
  {
   "cell_type": "markdown",
   "id": "bd2f30dc-cdde-4ef6-a8b7-9b9b3a53308b",
   "metadata": {},
   "source": [
    "# Trying to stack the models \n"
   ]
  },
  {
   "cell_type": "code",
   "execution_count": 21,
   "id": "ec8e34ab-9a50-43f0-bf9c-074109603881",
   "metadata": {},
   "outputs": [
    {
     "name": "stdout",
     "output_type": "stream",
     "text": [
      "[LightGBM] [Warning] feature_fraction is set=0.9199999999999999, colsample_bytree=1.0 will be ignored. Current value: feature_fraction=0.9199999999999999\n",
      "[LightGBM] [Warning] min_data_in_leaf is set=2, min_child_samples=20 will be ignored. Current value: min_data_in_leaf=2\n",
      "[LightGBM] [Warning] bagging_fraction is set=0.35, subsample=1.0 will be ignored. Current value: bagging_fraction=0.35\n",
      "[LightGBM] [Warning] bagging_freq is set=1, subsample_freq=0 will be ignored. Current value: bagging_freq=1\n"
     ]
    }
   ],
   "source": [
    "# try the stacked model\n",
    "# I need a different kind of pipeline \n",
    "\n",
    "X_dum = pd.get_dummies(df, columns=cols_dum, drop_first=True)\n",
    "X_dum, y = X_dum.drop('SalePrice', axis=1), X_dum.SalePrice.values\n",
    "X_tr, X_te, y_tr, y_te = train_test_split(X_dum, np.log1p(y), test_size=0.4, random_state=0) \n",
    "\n",
    "ridge = make_pipeline(RobustScaler(), Ridge(alpha=16.08124120603015))\n",
    "ridge.fit(X_tr, y_tr);\n",
    "\n",
    "lasso = make_pipeline(RobustScaler(), Lasso(alpha=0.00016162454545454546))\n",
    "lasso.fit(X_tr, y_tr);\n",
    "\n",
    "model_lgbm = make_pipeline(RobustScaler(), lgb.LGBMRegressor(objective='regression',\n",
    "                              n_estimators=950,\n",
    "                              learning_rate=0.02407009717957826,\n",
    "                              num_leaves=20,\n",
    "                              min_data_in_leaf=2,\n",
    "                              bagging_fraction= 0.35,\n",
    "                              bagging_freq = 1, \n",
    "                              feature_fraction = 0.9199999999999999,\n",
    "                              feature_fraction_seed=14, bagging_seed=14))\n",
    "model_lgbm.fit(X_tr, y_tr)\n",
    "\n",
    "model_xgboost = make_pipeline(RobustScaler(), xgb.XGBRegressor(n_estimators=2180,\n",
    "                             max_depth= 9,\n",
    "                             learning_rate = 0.042132322085510786, \n",
    "                             colsample_bytree = 0.21082651543070063, \n",
    "                             gamma = 0.0056211195829035665, \n",
    "                             reg_alpha = 0.4818050113004029, \n",
    "                             reg_lambda = 0.6391073956653768,\n",
    "                             random_state=14, \n",
    "                             ))\n",
    "model_xgboost.fit(X_tr, y_tr)\n",
    "\n",
    "model_gb = make_pipeline(RobustScaler(), GradientBoostingRegressor(n_estimators=4080, \n",
    "                                   learning_rate=0.022995922215616475,\n",
    "                                   max_depth=5, \n",
    "                                   max_features='sqrt',\n",
    "                                   # min_samples_leaf=15, \n",
    "                                   min_samples_split=39, \n",
    "                                   loss='huber', \n",
    "                                   random_state =14))\n",
    "model_gb.fit(X_tr, y_tr);"
   ]
  },
  {
   "cell_type": "code",
   "execution_count": 22,
   "id": "108d81d9-6d09-4c76-8dff-3e98592118dc",
   "metadata": {},
   "outputs": [
    {
     "name": "stdout",
     "output_type": "stream",
     "text": [
      "[LightGBM] [Warning] feature_fraction is set=0.9199999999999999, colsample_bytree=1.0 will be ignored. Current value: feature_fraction=0.9199999999999999\n",
      "[LightGBM] [Warning] min_data_in_leaf is set=2, min_child_samples=20 will be ignored. Current value: min_data_in_leaf=2\n",
      "[LightGBM] [Warning] bagging_fraction is set=0.35, subsample=1.0 will be ignored. Current value: bagging_fraction=0.35\n",
      "[LightGBM] [Warning] bagging_freq is set=1, subsample_freq=0 will be ignored. Current value: bagging_freq=1\n",
      "[LightGBM] [Warning] feature_fraction is set=0.9199999999999999, colsample_bytree=1.0 will be ignored. Current value: feature_fraction=0.9199999999999999\n",
      "[LightGBM] [Warning] min_data_in_leaf is set=2, min_child_samples=20 will be ignored. Current value: min_data_in_leaf=2\n",
      "[LightGBM] [Warning] bagging_fraction is set=0.35, subsample=1.0 will be ignored. Current value: bagging_fraction=0.35\n",
      "[LightGBM] [Warning] bagging_freq is set=1, subsample_freq=0 will be ignored. Current value: bagging_freq=1\n",
      "[LightGBM] [Warning] feature_fraction is set=0.9199999999999999, colsample_bytree=1.0 will be ignored. Current value: feature_fraction=0.9199999999999999\n",
      "[LightGBM] [Warning] min_data_in_leaf is set=2, min_child_samples=20 will be ignored. Current value: min_data_in_leaf=2\n",
      "[LightGBM] [Warning] bagging_fraction is set=0.35, subsample=1.0 will be ignored. Current value: bagging_fraction=0.35\n",
      "[LightGBM] [Warning] bagging_freq is set=1, subsample_freq=0 will be ignored. Current value: bagging_freq=1\n",
      "[LightGBM] [Warning] feature_fraction is set=0.9199999999999999, colsample_bytree=1.0 will be ignored. Current value: feature_fraction=0.9199999999999999\n",
      "[LightGBM] [Warning] min_data_in_leaf is set=2, min_child_samples=20 will be ignored. Current value: min_data_in_leaf=2\n",
      "[LightGBM] [Warning] bagging_fraction is set=0.35, subsample=1.0 will be ignored. Current value: bagging_fraction=0.35\n",
      "[LightGBM] [Warning] bagging_freq is set=1, subsample_freq=0 will be ignored. Current value: bagging_freq=1\n",
      "[LightGBM] [Warning] feature_fraction is set=0.9199999999999999, colsample_bytree=1.0 will be ignored. Current value: feature_fraction=0.9199999999999999\n",
      "[LightGBM] [Warning] min_data_in_leaf is set=2, min_child_samples=20 will be ignored. Current value: min_data_in_leaf=2\n",
      "[LightGBM] [Warning] bagging_fraction is set=0.35, subsample=1.0 will be ignored. Current value: bagging_fraction=0.35\n",
      "[LightGBM] [Warning] bagging_freq is set=1, subsample_freq=0 will be ignored. Current value: bagging_freq=1\n",
      "The stacked model predictions gives us a MAE of 12961.28 $ on the test set\n"
     ]
    }
   ],
   "source": [
    "# https://rasbt.github.io/mlxtend/user_guide/regressor/StackingCVRegressor/\n",
    "from mlxtend.regressor import StackingCVRegressor\n",
    "\n",
    "# Stack up all the models above, optimized using xgboost\n",
    "stacked_model = StackingCVRegressor(regressors=(ridge, lasso, model_lgbm, model_xgboost, model_gb),\n",
    "                                meta_regressor=model_lgbm,\n",
    "                                use_features_in_secondary=True,\n",
    "                                random_state =0)\n",
    "\n",
    "stacked_model.fit(X_tr, y_tr);\n",
    "\n",
    "print(f'The stacked model predictions gives us a MAE of {MAE(np.expm1(y_te), np.expm1(stacked_model.predict(X_te))):.2f} $ on the test set')"
   ]
  },
  {
   "cell_type": "code",
   "execution_count": 23,
   "id": "109d8daf-dcfe-488a-b532-1bea80da48e0",
   "metadata": {},
   "outputs": [
    {
     "name": "stdout",
     "output_type": "stream",
     "text": [
      "The LGBM model gives us a MAE of 13218.42 $ on the test set\n",
      "The blend prediction gives us a MAE of 12385.41 $ on the test set\n"
     ]
    }
   ],
   "source": [
    "# stacked with blend model\n",
    "\n",
    "def blended_predictions(X):\n",
    "    return ((0.1 * ridge.predict(X)) + \\\n",
    "            (0.1 * lasso.predict(X)) + \\\n",
    "            (0.3 * model_lgbm.predict(X)) + \\\n",
    "            (0.1 * model_xgboost.predict(X)) + \\\n",
    "            (0.2 * model_gb.predict(X)) + \\\n",
    "            (0.2 * stacked_model.predict(X)))\n",
    "\n",
    "print(f'The LGBM model gives us a MAE of {MAE(np.expm1(y_te), np.expm1(model_lgbm.predict(X_te))):.2f} $ on the test set')\n",
    "print(f'The blend prediction gives us a MAE of {MAE(np.expm1(y_te), np.floor(np.expm1(blended_predictions(X_te)))):.2f} $ on the test set')"
   ]
  }
 ],
 "metadata": {
  "kernelspec": {
   "display_name": "Python 3 (ipykernel)",
   "language": "python",
   "name": "python3"
  },
  "language_info": {
   "codemirror_mode": {
    "name": "ipython",
    "version": 3
   },
   "file_extension": ".py",
   "mimetype": "text/x-python",
   "name": "python",
   "nbconvert_exporter": "python",
   "pygments_lexer": "ipython3",
   "version": "3.8.13"
  }
 },
 "nbformat": 4,
 "nbformat_minor": 5
}
